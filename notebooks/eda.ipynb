{
 "cells": [
  {
   "cell_type": "code",
   "execution_count": null,
   "id": "d626fa09",
   "metadata": {},
   "outputs": [],
   "source": [
    "import pandas as pd\n",
    "import json"
   ]
  },
  {
   "cell_type": "code",
   "execution_count": null,
   "id": "1982b549",
   "metadata": {},
   "outputs": [],
   "source": [
    "path_to_label = '../data/twibot20/raw/label.csv'\n",
    "label_df = pd.read_csv(path_to_label)"
   ]
  },
  {
   "cell_type": "code",
   "execution_count": null,
   "id": "4dfe0e46",
   "metadata": {},
   "outputs": [],
   "source": [
    "path_to_split = '../data/twibot20/split.csv'\n",
    "split_df = pd.read_csv(path_to_split)"
   ]
  },
  {
   "cell_type": "code",
   "execution_count": null,
   "id": "3a432d3c",
   "metadata": {},
   "outputs": [],
   "source": [
    "path_to_edge = '../data/twibot20/raw/edge.csv'\n",
    "edge_df = pd.read_csv(path_to_edge)"
   ]
  }
 ],
 "metadata": {
  "kernelspec": {
   "display_name": "Python 3 (ipykernel)",
   "language": "python",
   "name": "python3"
  },
  "language_info": {
   "codemirror_mode": {
    "name": "ipython",
    "version": 3
   },
   "file_extension": ".py",
   "mimetype": "text/x-python",
   "name": "python",
   "nbconvert_exporter": "python",
   "pygments_lexer": "ipython3",
   "version": "3.9.12"
  }
 },
 "nbformat": 4,
 "nbformat_minor": 5
}
